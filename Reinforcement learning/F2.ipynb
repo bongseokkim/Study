{
 "cells": [
  {
   "cell_type": "markdown",
   "metadata": {},
   "source": [
    "### Skiier (1)"
   ]
  },
  {
   "cell_type": "code",
   "execution_count": 169,
   "metadata": {},
   "outputs": [],
   "source": [
    "import numpy as np\n",
    "import pandas as pd"
   ]
  },
  {
   "cell_type": "code",
   "execution_count": 170,
   "metadata": {},
   "outputs": [],
   "source": [
    "# Model\n",
    "states = np.arange( 0, 80, 10 ).astype( str )\n",
    "\n",
    "P_normal = pd.DataFrame( np.matrix( [[0, 1, 0, 0, 0, 0, 0, 0],\n",
    "                                     [0, 0, 1, 0, 0, 0, 0, 0],\n",
    "                                     [0, 0, 0, 1, 0, 0, 0, 0],\n",
    "                                     [0, 0, 0, 0, 1, 0, 0, 0],\n",
    "                                     [0, 0, 0, 0, 0, 1, 0, 0],\n",
    "                                     [0, 0, 0, 0, 0, 0, 1, 0],\n",
    "                                     [0, 0, 0, 0, 0, 0, 0, 1],\n",
    "                                     [0, 0, 0, 0, 0, 0, 0, 1]] ), index = states, columns = states )\n",
    "\n",
    "P_speed = pd.DataFrame( np.matrix( [[0.1, 0, 0.9, 0, 0, 0, 0, 0],\n",
    "                                    [0.1, 0, 0, 0.9, 0, 0, 0, 0],\n",
    "                                    [0, 0.1, 0, 0, 0.9, 0, 0, 0],\n",
    "                                    [0, 0, 0.1, 0, 0, 0.9, 0, 0],\n",
    "                                    [0, 0, 0, 0.1, 0, 0, 0.9, 0],\n",
    "                                    [0, 0, 0, 0, 0.1, 0, 0, 0.9],\n",
    "                                    [0, 0, 0, 0, 0, 0.1, 0, 0.9],\n",
    "                                    [0, 0, 0, 0, 0, 0, 0, 1]] ), index = states, columns = states )\n",
    "\n",
    "R_s_a = pd.DataFrame( np.c_[[-1, -1, -1, -1, 0, -1, -1, 0], [-1.5, -1.5, -1.5, -1.5, -0.5, -1.5, -1.5, 0]],\n",
    "                      index = states, columns = ['n', 's'] )\n",
    "\n",
    "q_s_a_init = pd.DataFrame( np.c_[np.repeat( 0.0, len( states ) ), np.repeat( 0.0, len( states ) )], index = states,\n",
    "                      columns = ['n', 's'] )\n"
   ]
  },
  {
   "cell_type": "markdown",
   "metadata": {},
   "source": [
    "### Skiier (2)"
   ]
  },
  {
   "cell_type": "code",
   "execution_count": 171,
   "metadata": {},
   "outputs": [],
   "source": [
    "# Policy\n",
    "pi_speed = pd.DataFrame( np.c_[np.repeat( 0, len( states ) ), np.repeat( 1, len( states ) )], index = states,\n",
    "                         columns = ['n', 's'] )\n",
    "\n",
    "pi_50 = pd.DataFrame( np.c_[np.repeat( 0.5, len( states ) ), np.repeat( 0.5, len( states ) )], index = states,\n",
    "                      columns = ['n', 's'] )\n"
   ]
  },
  {
   "cell_type": "markdown",
   "metadata": {},
   "source": [
    "### Skiier (3)"
   ]
  },
  {
   "cell_type": "code",
   "execution_count": 172,
   "metadata": {},
   "outputs": [
    {
     "name": "stdout",
     "output_type": "stream",
     "text": [
      "['0', 's', '-1.5', '20', 's', '-1.5', '40', 's', '-0.5', '60', 's', '-1.5', '70']\n"
     ]
    }
   ],
   "source": [
    "def simul_path(pi, P_normal, P_speed, R_s_a):\n",
    "    s_now = \"0\"\n",
    "    history_i = [s_now]\n",
    "\n",
    "    while s_now != \"70\":\n",
    "        if np.random.uniform() < pi.loc[s_now, \"n\"]:\n",
    "            a_now = \"n\"\n",
    "            P = P_normal\n",
    "\n",
    "        else:\n",
    "            a_now = \"s\"\n",
    "            P = P_speed\n",
    "\n",
    "        r_now = str( R_s_a.loc[s_now, a_now] )\n",
    "        s_next = states[np.argmin( P.loc[s_now].cumsum() < np.random.uniform() )]\n",
    "        history_i.extend( [a_now, r_now, s_next] )\n",
    "        s_now = s_next\n",
    "\n",
    "    return history_i\n",
    "sample_path=simul_path(pi=pi_speed,P_normal=P_normal,P_speed=P_speed,R_s_a=R_s_a)\n",
    "print(sample_path)"
   ]
  },
  {
   "cell_type": "markdown",
   "metadata": {},
   "source": [
    "### Skiier (4)"
   ]
  },
  {
   "cell_type": "code",
   "execution_count": 173,
   "metadata": {},
   "outputs": [
    {
     "name": "stdout",
     "output_type": "stream",
     "text": [
      "['0', 's', -1.5, '20', 's']\n"
     ]
    }
   ],
   "source": [
    "# simul_step()\n",
    "def simul_step(pi, s_now, P_normal, P_speed, R_s_a):\n",
    "    if np.random.uniform() < pi.loc[s_now, \"n\"]:\n",
    "        a_now = \"n\"\n",
    "        P = P_normal\n",
    "\n",
    "    else:\n",
    "        a_now = \"s\"\n",
    "        P = P_speed\n",
    "\n",
    "    r_now = R_s_a.loc[s_now, a_now]\n",
    "    s_next = states[np.argmin( P.loc[s_now].cumsum() < np.random.uniform() )]\n",
    "\n",
    "    if np.random.uniform() < pi.loc[s_next, \"n\"]:\n",
    "        a_next = \"n\"\n",
    "    else:\n",
    "        a_next = \"s\"\n",
    "\n",
    "    sarsa = [s_now, a_now, r_now, s_next, a_next]\n",
    "\n",
    "    return sarsa\n",
    "\n",
    "\n",
    "sample_step = simul_step( pi_speed, \"0\", P_normal, P_speed, R_s_a )\n",
    "print( sample_step )\n"
   ]
  },
  {
   "cell_type": "markdown",
   "metadata": {},
   "source": [
    "### Skiier (5)"
   ]
  },
  {
   "cell_type": "code",
   "execution_count": 174,
   "metadata": {},
   "outputs": [
    {
     "data": {
      "text/html": [
       "<div>\n",
       "<style scoped>\n",
       "    .dataframe tbody tr th:only-of-type {\n",
       "        vertical-align: middle;\n",
       "    }\n",
       "\n",
       "    .dataframe tbody tr th {\n",
       "        vertical-align: top;\n",
       "    }\n",
       "\n",
       "    .dataframe thead th {\n",
       "        text-align: right;\n",
       "    }\n",
       "</style>\n",
       "<table border=\"1\" class=\"dataframe\">\n",
       "  <thead>\n",
       "    <tr style=\"text-align: right;\">\n",
       "      <th></th>\n",
       "      <th>n</th>\n",
       "      <th>s</th>\n",
       "    </tr>\n",
       "  </thead>\n",
       "  <tbody>\n",
       "    <tr>\n",
       "      <th>0</th>\n",
       "      <td>0.0</td>\n",
       "      <td>-0.50</td>\n",
       "    </tr>\n",
       "    <tr>\n",
       "      <th>10</th>\n",
       "      <td>0.0</td>\n",
       "      <td>0.00</td>\n",
       "    </tr>\n",
       "    <tr>\n",
       "      <th>20</th>\n",
       "      <td>0.0</td>\n",
       "      <td>-0.35</td>\n",
       "    </tr>\n",
       "    <tr>\n",
       "      <th>30</th>\n",
       "      <td>0.0</td>\n",
       "      <td>0.00</td>\n",
       "    </tr>\n",
       "    <tr>\n",
       "      <th>40</th>\n",
       "      <td>0.0</td>\n",
       "      <td>-0.20</td>\n",
       "    </tr>\n",
       "    <tr>\n",
       "      <th>50</th>\n",
       "      <td>0.0</td>\n",
       "      <td>0.00</td>\n",
       "    </tr>\n",
       "    <tr>\n",
       "      <th>60</th>\n",
       "      <td>0.0</td>\n",
       "      <td>-0.15</td>\n",
       "    </tr>\n",
       "    <tr>\n",
       "      <th>70</th>\n",
       "      <td>0.0</td>\n",
       "      <td>0.00</td>\n",
       "    </tr>\n",
       "  </tbody>\n",
       "</table>\n",
       "</div>"
      ],
      "text/plain": [
       "      n     s\n",
       "0   0.0 -0.50\n",
       "10  0.0  0.00\n",
       "20  0.0 -0.35\n",
       "30  0.0  0.00\n",
       "40  0.0 -0.20\n",
       "50  0.0  0.00\n",
       "60  0.0 -0.15\n",
       "70  0.0  0.00"
      ]
     },
     "execution_count": 174,
     "metadata": {},
     "output_type": "execute_result"
    }
   ],
   "source": [
    "def pol_eval_MC(sample_path, q_s_a, alpha):\n",
    "    q_s_a_copy= q_s_a.copy()\n",
    "    \n",
    "    for j in range( 0,len( sample_path ) - 1, 3 ):\n",
    "        s = sample_path[j]\n",
    "        a = sample_path[j + 1]\n",
    "        G = np.sum(np.array(sample_path[j + 2:len( sample_path )-1:3]).astype( float ) )\n",
    "\n",
    "        q_s_a_copy.loc[s,a] += alpha * (G - q_s_a_copy.loc[s, a])\n",
    "\n",
    "    return q_s_a_copy\n",
    "\n",
    "\n",
    "q_s_a=pol_eval_MC( sample_path, q_s_a = q_s_a_init, alpha = 0.1 )\n",
    "q_s_a"
   ]
  },
  {
   "cell_type": "markdown",
   "metadata": {},
   "source": [
    "### skiier (6)"
   ]
  },
  {
   "cell_type": "code",
   "execution_count": 175,
   "metadata": {},
   "outputs": [
    {
     "data": {
      "text/html": [
       "<div>\n",
       "<style scoped>\n",
       "    .dataframe tbody tr th:only-of-type {\n",
       "        vertical-align: middle;\n",
       "    }\n",
       "\n",
       "    .dataframe tbody tr th {\n",
       "        vertical-align: top;\n",
       "    }\n",
       "\n",
       "    .dataframe thead th {\n",
       "        text-align: right;\n",
       "    }\n",
       "</style>\n",
       "<table border=\"1\" class=\"dataframe\">\n",
       "  <thead>\n",
       "    <tr style=\"text-align: right;\">\n",
       "      <th></th>\n",
       "      <th>n</th>\n",
       "      <th>s</th>\n",
       "    </tr>\n",
       "  </thead>\n",
       "  <tbody>\n",
       "    <tr>\n",
       "      <th>0</th>\n",
       "      <td>0.0</td>\n",
       "      <td>-0.15</td>\n",
       "    </tr>\n",
       "    <tr>\n",
       "      <th>10</th>\n",
       "      <td>0.0</td>\n",
       "      <td>0.00</td>\n",
       "    </tr>\n",
       "    <tr>\n",
       "      <th>20</th>\n",
       "      <td>0.0</td>\n",
       "      <td>0.00</td>\n",
       "    </tr>\n",
       "    <tr>\n",
       "      <th>30</th>\n",
       "      <td>0.0</td>\n",
       "      <td>0.00</td>\n",
       "    </tr>\n",
       "    <tr>\n",
       "      <th>40</th>\n",
       "      <td>0.0</td>\n",
       "      <td>0.00</td>\n",
       "    </tr>\n",
       "    <tr>\n",
       "      <th>50</th>\n",
       "      <td>0.0</td>\n",
       "      <td>0.00</td>\n",
       "    </tr>\n",
       "    <tr>\n",
       "      <th>60</th>\n",
       "      <td>0.0</td>\n",
       "      <td>0.00</td>\n",
       "    </tr>\n",
       "    <tr>\n",
       "      <th>70</th>\n",
       "      <td>0.0</td>\n",
       "      <td>0.00</td>\n",
       "    </tr>\n",
       "  </tbody>\n",
       "</table>\n",
       "</div>"
      ],
      "text/plain": [
       "      n     s\n",
       "0   0.0 -0.15\n",
       "10  0.0  0.00\n",
       "20  0.0  0.00\n",
       "30  0.0  0.00\n",
       "40  0.0  0.00\n",
       "50  0.0  0.00\n",
       "60  0.0  0.00\n",
       "70  0.0  0.00"
      ]
     },
     "execution_count": 175,
     "metadata": {},
     "output_type": "execute_result"
    }
   ],
   "source": [
    "def pol_eval_TD(sample_step, q_s_a, alpha):\n",
    "    q_s_a_copy= q_s_a.copy()\n",
    "    s = sample_step[0]\n",
    "    a = sample_step[1]\n",
    "    r = sample_step[2]\n",
    "    s_next = sample_step[3]\n",
    "    a_next = sample_step[4]\n",
    "\n",
    "    q_s_a_copy.loc[s,a] +=alpha*(r+q_s_a_copy.loc[s_next, a_next]-q_s_a_copy.loc[s,a])\n",
    "\n",
    "    return q_s_a_copy\n",
    "\n",
    "q_s_a=pol_eval_TD(sample_step, q_s_a_init, alpha = 0.1)\n",
    "q_s_a"
   ]
  },
  {
   "cell_type": "code",
   "execution_count": 213,
   "metadata": {},
   "outputs": [],
   "source": [
    "def pol_imp(pi, q_s_a, epsilon): # epsilon = exploration_rate\n",
    "    pi_copy =pi.copy()\n",
    "    for i in range(pi.shape[0]):\n",
    "        # exploitation\n",
    "        if np.random.uniform() > epsilon:\n",
    "            pi_copy.iloc[i] = 0\n",
    "            pi_copy.iloc[i, np.argmax(q_s_a.iloc[i,])] = 1\n",
    "\n",
    "            \n",
    "\n",
    "        else:\n",
    "            # exploration\n",
    "            pi_copy.iloc[i] = 1/q_s_a.shape[1]\n",
    "\n",
    "\n",
    "    return pi_copy"
   ]
  },
  {
   "cell_type": "code",
   "execution_count": 222,
   "metadata": {},
   "outputs": [
    {
     "data": {
      "text/html": [
       "<div>\n",
       "<style scoped>\n",
       "    .dataframe tbody tr th:only-of-type {\n",
       "        vertical-align: middle;\n",
       "    }\n",
       "\n",
       "    .dataframe tbody tr th {\n",
       "        vertical-align: top;\n",
       "    }\n",
       "\n",
       "    .dataframe thead th {\n",
       "        text-align: right;\n",
       "    }\n",
       "</style>\n",
       "<table border=\"1\" class=\"dataframe\">\n",
       "  <thead>\n",
       "    <tr style=\"text-align: right;\">\n",
       "      <th></th>\n",
       "      <th>n</th>\n",
       "      <th>s</th>\n",
       "    </tr>\n",
       "  </thead>\n",
       "  <tbody>\n",
       "    <tr>\n",
       "      <th>0</th>\n",
       "      <td>1</td>\n",
       "      <td>0</td>\n",
       "    </tr>\n",
       "    <tr>\n",
       "      <th>10</th>\n",
       "      <td>1</td>\n",
       "      <td>0</td>\n",
       "    </tr>\n",
       "    <tr>\n",
       "      <th>20</th>\n",
       "      <td>1</td>\n",
       "      <td>0</td>\n",
       "    </tr>\n",
       "    <tr>\n",
       "      <th>30</th>\n",
       "      <td>1</td>\n",
       "      <td>0</td>\n",
       "    </tr>\n",
       "    <tr>\n",
       "      <th>40</th>\n",
       "      <td>1</td>\n",
       "      <td>0</td>\n",
       "    </tr>\n",
       "    <tr>\n",
       "      <th>50</th>\n",
       "      <td>1</td>\n",
       "      <td>0</td>\n",
       "    </tr>\n",
       "    <tr>\n",
       "      <th>60</th>\n",
       "      <td>1</td>\n",
       "      <td>0</td>\n",
       "    </tr>\n",
       "    <tr>\n",
       "      <th>70</th>\n",
       "      <td>1</td>\n",
       "      <td>0</td>\n",
       "    </tr>\n",
       "  </tbody>\n",
       "</table>\n",
       "</div>"
      ],
      "text/plain": [
       "    n  s\n",
       "0   1  0\n",
       "10  1  0\n",
       "20  1  0\n",
       "30  1  0\n",
       "40  1  0\n",
       "50  1  0\n",
       "60  1  0\n",
       "70  1  0"
      ]
     },
     "execution_count": 222,
     "metadata": {},
     "output_type": "execute_result"
    }
   ],
   "source": [
    "pol_imp(pi_speed, q_s_a, epsilon=0)"
   ]
  },
  {
   "cell_type": "markdown",
   "metadata": {},
   "source": [
    "### Policy iteration - MC Control"
   ]
  },
  {
   "cell_type": "code",
   "execution_count": 247,
   "metadata": {},
   "outputs": [
    {
     "name": "stdout",
     "output_type": "stream",
     "text": [
      "Time difference of 4.581876754760742 sec\n",
      "     0   10   20   30   40   50   60   70\n",
      "n  0.0  1.0  0.0  0.0  1.0  0.0  1.0  1.0\n",
      "s  1.0  0.0  1.0  1.0  0.0  1.0  0.0  0.0\n",
      "          0        10        20        30        40        50        60   70\n",
      "n -5.590049 -3.903485 -3.562931 -2.830778 -1.706983 -1.699335 -0.927032  0.0\n",
      "s -5.290829 -3.903570 -3.539539 -2.789214 -1.935418 -1.681056 -0.964113  0.0\n"
     ]
    }
   ],
   "source": [
    "import time\n",
    "\n",
    "num_ep = 10**3\n",
    "beg_time =time.time()\n",
    "q_s_a = q_s_a_init\n",
    "pi=pi_50\n",
    "\n",
    "\n",
    "for epi_i in range(1,num_ep) :\n",
    "    sample_path_i = simul_path(pi, P_normal, P_speed, R_s_a)\n",
    "    q_s_a = pol_eval_MC(sample_path_i, q_s_a, alpha = 1/epi_i)\n",
    "    pi = pol_imp(pi, q_s_a, epsilon= 1/epi_i)\n",
    "end_time =time.time()\n",
    "\n",
    "print(\"Time difference of {} sec\".format(end_time- beg_time))\n",
    "print(pi.T)\n",
    "print(q_s_a.T)"
   ]
  },
  {
   "cell_type": "code",
   "execution_count": 234,
   "metadata": {},
   "outputs": [
    {
     "name": "stdout",
     "output_type": "stream",
     "text": [
      "Time difference of 47.17221975326538 sec\n",
      "     0   10   20   30   40   50   60   70\n",
      "n  0.0  1.0  0.0  1.0  1.0  0.0  1.0  1.0\n",
      "s  1.0  0.0  1.0  0.0  0.0  1.0  0.0  0.0\n",
      "          0        10        20        30        40        50        60   70\n",
      "n -5.322128 -3.942366 -4.587156 -2.546016 -1.663601 -2.374797 -0.957560  0.0\n",
      "s -5.127708 -3.942527 -3.455995 -3.856771 -1.663930 -1.663824 -1.522334  0.0\n"
     ]
    }
   ],
   "source": [
    "import time\n",
    "\n",
    "num_ep = 10**4\n",
    "beg_time =time.time()\n",
    "q_s_a = q_s_a_init\n",
    "pi=pi_50\n",
    "\n",
    "\n",
    "for epi_i in range(1,num_ep) :\n",
    "    sample_path_i = simul_path(pi, P_normal, P_speed, R_s_a)\n",
    "    q_s_a = pol_eval_MC(sample_path_i, q_s_a, alpha = 1/epi_i)\n",
    "    pi = pol_imp(pi, q_s_a, epsilon= 1/epi_i)\n",
    "end_time =time.time()\n",
    "\n",
    "print(\"Time difference of {} sec\".format(end_time- beg_time))\n",
    "print(pi.T)\n",
    "print(q_s_a.T)"
   ]
  },
  {
   "cell_type": "code",
   "execution_count": 237,
   "metadata": {},
   "outputs": [
    {
     "name": "stdout",
     "output_type": "stream",
     "text": [
      "Time difference of 467.4620771408081 sec\n",
      "     0   10   20   30   40   50   60   70\n",
      "n  0.0  0.0  0.0  1.0  0.0  0.0  1.0  1.0\n",
      "s  1.0  1.0  1.0  0.0  1.0  1.0  0.0  0.0\n",
      "          0        10        20        30        40        50        60   70\n",
      "n -5.931298 -4.895709 -4.229481 -2.818607 -1.930211 -2.267274 -1.000000  0.0\n",
      "s -5.112680 -4.635681 -3.443544 -3.525068 -1.668082 -1.547125 -1.488869  0.0\n"
     ]
    }
   ],
   "source": [
    "import time\n",
    "\n",
    "num_ep = 10**5\n",
    "beg_time =time.time()\n",
    "q_s_a = q_s_a_init\n",
    "pi=pi_50\n",
    "exploration_rate = 1\n",
    "\n",
    "for epi_i in range(1,num_ep) :\n",
    "    sample_path_i = simul_path(pi, P_normal, P_speed, R_s_a)\n",
    "    q_s_a = pol_eval_MC(sample_path_i, q_s_a, alpha = 1/epi_i)\n",
    "    pi = pol_imp(pi, q_s_a, exploration_rate)\n",
    "    exploration_rate*=0.9995 # exponential decay\n",
    "    \n",
    "end_time =time.time()\n",
    "\n",
    "print(\"Time difference of {} sec\".format(end_time- beg_time))\n",
    "print(pi.T)\n",
    "print(q_s_a.T)"
   ]
  },
  {
   "cell_type": "markdown",
   "metadata": {},
   "source": [
    "### TD Control"
   ]
  },
  {
   "cell_type": "code",
   "execution_count": 239,
   "metadata": {},
   "outputs": [
    {
     "name": "stdout",
     "output_type": "stream",
     "text": [
      "Time difference of 17.173409461975098 sec\n",
      "     0   10   20   30   40   50   60   70\n",
      "n  1.0  1.0  1.0  1.0  1.0  1.0  1.0  1.0\n",
      "s  0.0  0.0  0.0  0.0  0.0  0.0  0.0  0.0\n",
      "          0        10        20        30        40        50        60   70\n",
      "n -3.266026 -2.753257 -2.469884 -2.125536 -1.387263 -1.560197 -0.980994  0.0\n",
      "s -3.266162 -2.753411 -2.470245 -2.125874 -1.387263 -1.560875 -1.500000  0.0\n"
     ]
    }
   ],
   "source": [
    "import time\n",
    "\n",
    "num_ep = 10**3\n",
    "beg_time =time.time()\n",
    "q_s_a = q_s_a_init\n",
    "pi=pi_50\n",
    "\n",
    "\n",
    "for epi_i in range(1,num_ep) :\n",
    "    s_now=\"0\"\n",
    "    while s_now != \"70\":\n",
    "        sample_step = simul_step(pi,s_now, P_normal, P_speed, R_s_a)\n",
    "        q_s_a = pol_eval_TD(sample_step, q_s_a, alpha = 1/epi_i)\n",
    "        pi = pol_imp(pi, q_s_a, epsilon= 1/epi_i)\n",
    "        s_now = sample_step[3]\n",
    "end_time =time.time()\n",
    "\n",
    "print(\"Time difference of {} sec\".format(end_time- beg_time))\n",
    "print(pi.T)\n",
    "print(q_s_a.T)"
   ]
  },
  {
   "cell_type": "code",
   "execution_count": 240,
   "metadata": {},
   "outputs": [
    {
     "name": "stdout",
     "output_type": "stream",
     "text": [
      "Time difference of 172.1427619457245 sec\n",
      "     0   10   20   30   40   50   60   70\n",
      "n  1.0  1.0  0.0  1.0  1.0  0.0  1.0  1.0\n",
      "s  0.0  0.0  1.0  0.0  0.0  1.0  0.0  0.0\n",
      "          0        10        20        30       40        50        60   70\n",
      "n -3.934944 -3.340103 -2.910932 -2.362509 -1.53358 -1.621797 -1.000000  0.0\n",
      "s -3.934984 -3.340125 -2.910926 -2.362541 -1.53364 -1.621682 -1.009684  0.0\n"
     ]
    }
   ],
   "source": [
    "import time\n",
    "\n",
    "num_ep = 10**4\n",
    "beg_time =time.time()\n",
    "q_s_a = q_s_a_init\n",
    "pi=pi_50\n",
    "\n",
    "\n",
    "for epi_i in range(1,num_ep) :\n",
    "    s_now=\"0\"\n",
    "    while s_now != \"70\":\n",
    "        sample_step = simul_step(pi,s_now, P_normal, P_speed, R_s_a)\n",
    "        q_s_a = pol_eval_TD(sample_step, q_s_a, alpha = 1/epi_i)\n",
    "        pi = pol_imp(pi, q_s_a, epsilon= 1/epi_i)\n",
    "        s_now = sample_step[3]\n",
    "end_time =time.time()\n",
    "\n",
    "print(\"Time difference of {} sec\".format(end_time- beg_time))\n",
    "print(pi.T)\n",
    "print(q_s_a.T)"
   ]
  },
  {
   "cell_type": "code",
   "execution_count": 241,
   "metadata": {},
   "outputs": [
    {
     "name": "stdout",
     "output_type": "stream",
     "text": [
      "Time difference of 17.474260330200195 sec\n",
      "     0   10   20   30   40   50   60   70\n",
      "n  0.0  0.0  1.0  1.0  0.0  1.0  1.0  1.0\n",
      "s  1.0  1.0  0.0  0.0  1.0  0.0  0.0  0.0\n",
      "          0        10        20        30        40        50        60   70\n",
      "n -3.171516 -2.713767 -2.492095 -2.098770 -1.395104 -1.594247 -0.973156  0.0\n",
      "s -3.171227 -2.713055 -2.492301 -2.099338 -1.395038 -1.594936 -1.500000  0.0\n"
     ]
    }
   ],
   "source": [
    "import time\n",
    "\n",
    "num_ep = 10**3\n",
    "beg_time =time.time()\n",
    "q_s_a = q_s_a_init\n",
    "pi=pi_50\n",
    "exploration_rate = 1\n",
    "\n",
    "for epi_i in range(1,num_ep) :\n",
    "    s_now=\"0\"\n",
    "    while s_now != \"70\":\n",
    "        sample_step = simul_step(pi,s_now, P_normal, P_speed, R_s_a)\n",
    "        q_s_a = pol_eval_TD(sample_step, q_s_a, alpha = 1/epi_i)\n",
    "        pi = pol_imp(pi, q_s_a, epsilon= 1/epi_i)\n",
    "        s_now = sample_step[3]\n",
    "        exploration_rate *=0.9995\n",
    "end_time =time.time()\n",
    "\n",
    "print(\"Time difference of {} sec\".format(end_time- beg_time))\n",
    "print(pi.T)\n",
    "print(q_s_a.T)"
   ]
  },
  {
   "cell_type": "code",
   "execution_count": 242,
   "metadata": {},
   "outputs": [
    {
     "data": {
      "text/html": [
       "<div>\n",
       "<style scoped>\n",
       "    .dataframe tbody tr th:only-of-type {\n",
       "        vertical-align: middle;\n",
       "    }\n",
       "\n",
       "    .dataframe tbody tr th {\n",
       "        vertical-align: top;\n",
       "    }\n",
       "\n",
       "    .dataframe thead th {\n",
       "        text-align: right;\n",
       "    }\n",
       "</style>\n",
       "<table border=\"1\" class=\"dataframe\">\n",
       "  <thead>\n",
       "    <tr style=\"text-align: right;\">\n",
       "      <th></th>\n",
       "      <th>n</th>\n",
       "      <th>s</th>\n",
       "    </tr>\n",
       "  </thead>\n",
       "  <tbody>\n",
       "    <tr>\n",
       "      <th>0</th>\n",
       "      <td>0.0</td>\n",
       "      <td>1.0</td>\n",
       "    </tr>\n",
       "    <tr>\n",
       "      <th>10</th>\n",
       "      <td>0.0</td>\n",
       "      <td>1.0</td>\n",
       "    </tr>\n",
       "    <tr>\n",
       "      <th>20</th>\n",
       "      <td>1.0</td>\n",
       "      <td>0.0</td>\n",
       "    </tr>\n",
       "    <tr>\n",
       "      <th>30</th>\n",
       "      <td>1.0</td>\n",
       "      <td>0.0</td>\n",
       "    </tr>\n",
       "    <tr>\n",
       "      <th>40</th>\n",
       "      <td>0.0</td>\n",
       "      <td>1.0</td>\n",
       "    </tr>\n",
       "    <tr>\n",
       "      <th>50</th>\n",
       "      <td>1.0</td>\n",
       "      <td>0.0</td>\n",
       "    </tr>\n",
       "    <tr>\n",
       "      <th>60</th>\n",
       "      <td>1.0</td>\n",
       "      <td>0.0</td>\n",
       "    </tr>\n",
       "    <tr>\n",
       "      <th>70</th>\n",
       "      <td>1.0</td>\n",
       "      <td>0.0</td>\n",
       "    </tr>\n",
       "  </tbody>\n",
       "</table>\n",
       "</div>"
      ],
      "text/plain": [
       "      n    s\n",
       "0   0.0  1.0\n",
       "10  0.0  1.0\n",
       "20  1.0  0.0\n",
       "30  1.0  0.0\n",
       "40  0.0  1.0\n",
       "50  1.0  0.0\n",
       "60  1.0  0.0\n",
       "70  1.0  0.0"
      ]
     },
     "execution_count": 242,
     "metadata": {},
     "output_type": "execute_result"
    }
   ],
   "source": [
    "pi"
   ]
  },
  {
   "cell_type": "code",
   "execution_count": null,
   "metadata": {},
   "outputs": [],
   "source": []
  }
 ],
 "metadata": {
  "kernelspec": {
   "display_name": "Python 3",
   "language": "python",
   "name": "python3"
  },
  "language_info": {
   "codemirror_mode": {
    "name": "ipython",
    "version": 3
   },
   "file_extension": ".py",
   "mimetype": "text/x-python",
   "name": "python",
   "nbconvert_exporter": "python",
   "pygments_lexer": "ipython3",
   "version": "3.8.3"
  }
 },
 "nbformat": 4,
 "nbformat_minor": 4
}
